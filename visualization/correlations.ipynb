{
 "cells": [
  {
   "cell_type": "code",
   "execution_count": 1,
   "metadata": {},
   "outputs": [],
   "source": [
    "import pandas as pd, numpy as np\n",
    "import crime as cr\n",
    "import chart_tools as ct"
   ]
  },
  {
   "cell_type": "code",
   "execution_count": 2,
   "metadata": {},
   "outputs": [],
   "source": [
    "dist_grad = pd.read_csv('../prepared_data/education/output/dist_grad_rate.csv', index_col=0)\n",
    "dist_mob = pd.read_csv('../prepared_data/education/output/dist_mobility_rate.csv', index_col=0)\n",
    "crime = pd.read_csv('../prepared_data/crime_records/output/all.csv', index_col=0)\n",
    "dist_arrests = pd.read_csv('../prepared_data/crime_aggregate/output/dist_arrests_total.csv', index_col=0)\n",
    "dist_crime = pd.read_csv('../prepared_data/crime_aggregate/output/dist_crime_total.csv', index_col=0)\n",
    "dem = pd.read_csv('../prepared_data/county_stats/output/demographics_2012.csv', index_col=0)\n",
    "pop = pd.read_csv('../prepared_data/county_stats/output/population.csv', index_col=0)"
   ]
  }
 ],
 "metadata": {
  "interpreter": {
   "hash": "b0fa6594d8f4cbf19f97940f81e996739fb7646882a419484c72d19e05852a7e"
  },
  "kernelspec": {
   "display_name": "Python 3.9.12 64-bit",
   "language": "python",
   "name": "python3"
  },
  "language_info": {
   "codemirror_mode": {
    "name": "ipython",
    "version": 3
   },
   "file_extension": ".py",
   "mimetype": "text/x-python",
   "name": "python",
   "nbconvert_exporter": "python",
   "pygments_lexer": "ipython3",
   "version": "3.9.12"
  },
  "orig_nbformat": 4
 },
 "nbformat": 4,
 "nbformat_minor": 2
}
