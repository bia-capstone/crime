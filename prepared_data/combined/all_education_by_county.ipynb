{
 "cells": [
  {
   "cell_type": "markdown",
   "metadata": {},
   "source": [
    "### This script combines the following 3 datasets, aggregates them by county, redesigns column naming structure, and re-calculates rates:\n",
    "1. District Student Mobility/Stability Statistics 2011-2012 **by Instructional Program/Service Type**\n",
    "2. District Student Mobility/Stability Statistics 2011-2012 **by Gender & Race/Ethnicity**\n",
    "3. District Graduation Data Statistics 2011-2012 **by Instructional Program Service Type**\n",
    "## Reference: Column Naming conventions\n",
    "\n",
    "- This dataset is designed so you should never have to look at the columns to find the name of one (since there are around 140 columns). Just look here for reference instead.\n",
    "- For instance, to get the rate for any variable, just use `_rate` after a variable. So `graduated` becomes `graduated_rate`\n",
    "\n",
    "| Type | Naming | Example |\n",
    "| - | - | - |\n",
    "| County Total | variable | `stable` |\n",
    "| Count | group + variable | `disabled_stable` |\n",
    "| Rate | group + variable + \"rate\" | `disabled_stable_rate` |\n",
    "| Group Total | group + group total | `disabled_pupil_total` |\n",
    "\n",
    "<br>\n",
    "\n",
    "#### Mobility/Stability columns\n",
    "\n",
    "| GROUPS | VARIABLES | GROUP TOTALS |\n",
    "| - | - | - |\n",
    "| disabled | stable | pupil_total |\n",
    "| limited_eng | mobile | \n",
    "| poor | mobile_instances |\n",
    "| migrant | \n",
    "| title_1 | \n",
    "| homeless |\n",
    "| gifted |\n",
    "| male |\n",
    "| female |\n",
    "| white |\n",
    "| asian |\n",
    "| black |\n",
    "| hispanic |\n",
    "\n",
    "<br>\n",
    "\n",
    "#### Graduation columns\n",
    "\n",
    "| GROUPS | VARIABLES | GROUP TOTALS |\n",
    "| - | - | - |\n",
    "| disabled | graduated | grad_base_total |\n",
    "| limited_eng | completed |\n",
    "| poor |\n",
    "| migrant |\n",
    "| title_1 |\n",
    "| homeless |\n",
    "| gifted |\n",
    "\n",
    "<br>\n",
    "\n",
    "**What are group totals?**\n",
    "- Notice they aren't just called \"total\". This is because, for graduation data, we don't care about the total number of students. We care about the total number of students who are actually in the pool for graduation. So, we call it `grad_base_total` and use that when calculating rate\n",
    "\n",
    "**Rates are calculated by dividing a variable by its group total, then multiplying by 100**"
   ]
  },
  {
   "cell_type": "markdown",
   "metadata": {},
   "source": [
    "---\n",
    "---\n",
    "---"
   ]
  },
  {
   "cell_type": "code",
   "execution_count": 16,
   "metadata": {},
   "outputs": [],
   "source": [
    "import pandas as pd, numpy as np\n",
    "# These 3 datasets have each been cleaned already, and had their county names standardized so they can be joined\n",
    "grad_raw = pd.read_csv(\"../education/output/dist_grad_rate.csv\", index_col=0)\n",
    "mob_raw = pd.read_csv(\"../education/output/dist_mobility_rate.csv\", index_col=0)\n",
    "mob_dem_raw = pd.read_csv(\"../education/output/dist_mobility_rate_demographics.csv\", index_col=0)"
   ]
  },
  {
   "cell_type": "markdown",
   "metadata": {},
   "source": [
    "### Merge and group by county"
   ]
  },
  {
   "cell_type": "code",
   "execution_count": 17,
   "metadata": {},
   "outputs": [],
   "source": [
    "# Remove the columns duplicated across mobility demographics and mobility datasets\n",
    "mob_dem_raw = mob_dem_raw.drop(columns=[\n",
    "    'total_pupil_count', 'total_stable_student_count', 'total_stability_rate', 'total_mobile_student_count',\n",
    "    'total_student_mobility_rate', 'total_instances_of_mobility', 'total_mobility_incidence_rate'])\n",
    "\n",
    "# Combine the two mobility datasets\n",
    "mob_raw = mob_raw.merge(mob_dem_raw, on=['county', 'school_dist'])\n",
    "\n",
    "# Combined the mobility and graduate data into one df\n",
    "df_raw = mob_raw.merge(grad_raw, on=['county', 'school_dist'])\n",
    "\n",
    "# Group by county\n",
    "df_raw_county = df_raw.groupby('county').sum().reset_index()\n",
    "\n",
    "df = df_raw_county.copy()"
   ]
  },
  {
   "cell_type": "markdown",
   "metadata": {},
   "source": [
    "### Functions"
   ]
  },
  {
   "cell_type": "code",
   "execution_count": 18,
   "metadata": {},
   "outputs": [],
   "source": [
    "def cols(df):\n",
    "    \"\"\" Get cols as list instead of index object. Exclude county \"\"\"\n",
    "    return [c for c in df.columns if c != 'county']\n",
    "\n",
    "def separate_by_str(df, text) -> (pd.DataFrame, pd.DataFrame):\n",
    "    \"\"\"\n",
    "    Given a df and a substring, return two dfs:\n",
    "    - df with county + all columns whose name does NOT contain substring\n",
    "    - df with county + all columns whose name DOES contain substring\n",
    "    \"\"\"\n",
    "    names = [c for c in df.columns if text in c]\n",
    "    return (\n",
    "        df.copy().drop(columns=names), # Cols without text\n",
    "        df.copy()[['county'] + names], # Cols with text\n",
    "    )\n",
    "\n",
    "def rename(df, text, replacement) -> pd.DataFrame:\n",
    "    \"\"\" Bulk replace a substring in the name of all columns \"\"\"\n",
    "    for c in df.columns:\n",
    "        df = df.rename(columns={c: c.replace(text, replacement)})\n",
    "    return df\n",
    "\n",
    "def merge(df1, df2) -> pd.DataFrame:\n",
    "    \"\"\" Shorthand for pandas merging, since they will always be inner joined on county\"\"\"\n",
    "    return df1.merge(df2, how='inner', on='county')"
   ]
  },
  {
   "cell_type": "markdown",
   "metadata": {},
   "source": [
    "## Column Name Manipulation\n",
    "---"
   ]
  },
  {
   "cell_type": "markdown",
   "metadata": {},
   "source": [
    "### Remove all rates. They got messed up when we aggregated by county"
   ]
  },
  {
   "cell_type": "code",
   "execution_count": 19,
   "metadata": {},
   "outputs": [],
   "source": [
    "df, _ = separate_by_str(df, \"rate\")"
   ]
  },
  {
   "cell_type": "markdown",
   "metadata": {},
   "source": [
    "#### Remove native american and native hawaiian because the group sizes are very small and values are 0 for a lot of counties. Remove \"two_or_more_races\" because it's inconsistent, and difficult to compare groups"
   ]
  },
  {
   "cell_type": "code",
   "execution_count": 20,
   "metadata": {},
   "outputs": [],
   "source": [
    "df, _ = separate_by_str(df, \"american_indian\")\n",
    "df, _ = separate_by_str(df, \"native_hawaiian\")\n",
    "df, _ = separate_by_str(df, \"two_or_more\")"
   ]
  },
  {
   "cell_type": "markdown",
   "metadata": {},
   "source": [
    "### Standardize group names, then shorten group names\n",
    "- Graduation data has `limited_english_proficient` and `econ_disadvant` \n",
    "- Mobility data `english_language_learners` and `economically_disadvantaged`\n",
    "\n",
    "**Standardize these to `limited_english` and `econ_disadvant`, and shorten the others**"
   ]
  },
  {
   "cell_type": "code",
   "execution_count": 21,
   "metadata": {},
   "outputs": [],
   "source": [
    "# Mobility/Stability groups\n",
    "df = rename(df, \"limited_english_proficient\", \"limited_eng\")\n",
    "df = rename(df, \"english_language_learners\", \"limited_eng\")\n",
    "df = rename(df, \"economically_disadvantaged\", \"poor\")\n",
    "df = rename(df, \"econ_disadvant\", \"poor\")\n",
    "df = rename(df, \"students_with_disabilities\", \"disabled\")\n",
    "df = rename(df, \"gifted_talented\", \"gifted\")\n",
    "\n",
    "# Demographics\n",
    "df = rename(df, \"black_or_african_american\", \"black\")\n",
    "df = rename(df, \"hispanic_or_latino\", \"hispanic\")"
   ]
  },
  {
   "cell_type": "markdown",
   "metadata": {},
   "source": [
    "### Rename more stuff for readability/consistency"
   ]
  },
  {
   "cell_type": "code",
   "execution_count": 22,
   "metadata": {},
   "outputs": [],
   "source": [
    "# Graduation data\n",
    "df = rename(df, \"final_grad_base\", \"grad_base_total\")\n",
    "df = rename(df, \"graduates_total\", \"graduated\")\n",
    "df = rename(df, \"completers_total\", \"completed\")\n",
    "\n",
    "# Mobility/Stability data\n",
    "df = rename(df, \"instances_of_mobility\", \"mobile_instances\")\n",
    "df = rename(df, \"pupil_count\", \"pupil_total\")\n",
    "df = rename(df, \"_student_count\", \"\")\n",
    "\n",
    "# Variable totals\n",
    "df = rename(df, \"_all_students\", \"\")\n",
    "df = rename(df, \"total_\", \"\")\n",
    "df = df.rename(columns={'stable_pupil_total': 'stable'})"
   ]
  },
  {
   "cell_type": "code",
   "execution_count": 23,
   "metadata": {},
   "outputs": [],
   "source": [
    "df_counts = df"
   ]
  },
  {
   "cell_type": "markdown",
   "metadata": {},
   "source": [
    "## Calculate Rates\n",
    "---"
   ]
  },
  {
   "cell_type": "markdown",
   "metadata": {},
   "source": [
    "### Rates for variables"
   ]
  },
  {
   "cell_type": "code",
   "execution_count": 24,
   "metadata": {},
   "outputs": [],
   "source": [
    "for c in ['stable', 'mobile', 'mobile_instances']:\n",
    "    df[f\"{c}_rate\"] = (df[c] / df['pupil_total'] * 100).round(2).fillna(0)"
   ]
  },
  {
   "cell_type": "markdown",
   "metadata": {},
   "source": [
    "### Rates for groups"
   ]
  },
  {
   "cell_type": "code",
   "execution_count": 25,
   "metadata": {},
   "outputs": [],
   "source": [
    "# Calculate rates dynamically\n",
    "for group in [\n",
    "        'disabled', 'limited_eng', 'poor', 'migrant', 'title_1', 'homeless', 'gifted',\n",
    "        'male', 'female', 'white', 'black', 'hispanic', 'asian']:\n",
    "\n",
    "    for c in [c for c in df.columns if group in c and \"total\" not in c]:\n",
    "        var = c.replace(f\"{group}_\", '')\n",
    "\n",
    "        if var in ['graduated', 'completed']:\n",
    "            new = df[c] / df[f\"{group}_grad_base_total\"]\n",
    "        else:\n",
    "            new = df[c] / df[f\"{group}_pupil_total\"]\n",
    "        \n",
    "        new = (new * 100).round(2).fillna(0)\n",
    "        df[f\"{c}_rate\"] = new"
   ]
  },
  {
   "cell_type": "code",
   "execution_count": 26,
   "metadata": {},
   "outputs": [],
   "source": [
    "df_all = df"
   ]
  },
  {
   "cell_type": "markdown",
   "metadata": {},
   "source": [
    "## Create new dataset for rates and group totals only\n",
    "---"
   ]
  },
  {
   "cell_type": "code",
   "execution_count": 27,
   "metadata": {},
   "outputs": [],
   "source": [
    "_, pupil_totals = separate_by_str(df_all, \"pupil_total\")\n",
    "_, grad_bases = separate_by_str(df_all, \"grad_base_total\")\n",
    "_, rates_only = separate_by_str(df_all, \"rate\")\n",
    "\n",
    "df = merge(rates_only, merge(pupil_totals, grad_bases))"
   ]
  },
  {
   "cell_type": "code",
   "execution_count": 28,
   "metadata": {},
   "outputs": [],
   "source": [
    "df_rates = df"
   ]
  },
  {
   "cell_type": "markdown",
   "metadata": {},
   "source": [
    "## Save\n",
    "---"
   ]
  },
  {
   "cell_type": "code",
   "execution_count": 29,
   "metadata": {},
   "outputs": [],
   "source": [
    "df_all.to_csv(\"output/all_education.csv\")\n",
    "df_counts.to_csv(\"output/all_education_counts.csv\")\n",
    "df_rates.to_csv(\"output/all_education_rates.csv\")"
   ]
  }
 ],
 "metadata": {
  "interpreter": {
   "hash": "b0fa6594d8f4cbf19f97940f81e996739fb7646882a419484c72d19e05852a7e"
  },
  "kernelspec": {
   "display_name": "Python 3.9.12 64-bit",
   "language": "python",
   "name": "python3"
  },
  "language_info": {
   "codemirror_mode": {
    "name": "ipython",
    "version": 3
   },
   "file_extension": ".py",
   "mimetype": "text/x-python",
   "name": "python",
   "nbconvert_exporter": "python",
   "pygments_lexer": "ipython3",
   "version": "3.9.12"
  },
  "orig_nbformat": 4
 },
 "nbformat": 4,
 "nbformat_minor": 2
}
